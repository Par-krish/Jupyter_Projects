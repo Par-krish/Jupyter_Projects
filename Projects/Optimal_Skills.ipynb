{
 "cells": [
  {
   "cell_type": "markdown",
   "id": "8fbcd114-ea53-48d2-a66d-f84cfcb148d0",
   "metadata": {},
   "source": [
    "# What is the most optimal skill to learn for a Data Analyst?"
   ]
  },
  {
   "cell_type": "code",
   "execution_count": 1,
   "id": "8b8dadfd-2259-4941-9c0a-a96e905aca3f",
   "metadata": {},
   "outputs": [],
   "source": [
    "# Importing Libraries\n",
    "import ast\n",
    "import pandas as pd\n",
    "import seaborn as sns\n",
    "import matplotlib.pyplot as plt \n",
    "from datasets import load_dataset\n",
    "# Loading Data\n",
    "dataset = load_dataset('lukebarousse/data_jobs')\n",
    "df = dataset['train'].to_pandas() #It stores data as data sets, we converted it to dataframe\n",
    "\n",
    "df['job_posted_date']=pd.to_datetime(df['job_posted_date'])\n",
    "df['job_skills']=df['job_skills'].apply(lambda x:ast.literal_eval(x) if pd.notna(x) else x)\n",
    "\n"
   ]
  },
  {
   "cell_type": "code",
   "execution_count": 2,
   "id": "4388f615-1169-4fd3-ac25-d1401a5d3f10",
   "metadata": {},
   "outputs": [],
   "source": [
    "df_DA_IN = df.loc[(df['job_country'] == 'India') & (df['job_title_short']=='Data Analyst')].copy()\n"
   ]
  },
  {
   "cell_type": "code",
   "execution_count": 3,
   "id": "ef9dca28-57d5-4001-8151-75bd2cd439c8",
   "metadata": {},
   "outputs": [],
   "source": [
    "df_DA_IN=df_DA_IN.loc[df_DA_IN['salary_year_avg'].notnull()]"
   ]
  },
  {
   "cell_type": "code",
   "execution_count": 4,
   "id": "b6c6b105-924f-4981-8fa0-07809a5be8ff",
   "metadata": {},
   "outputs": [],
   "source": [
    "df_DA_IN_explode=df_DA_IN.explode('job_skills')\n",
    "df_DA_IN_skills=df_DA_IN_explode.groupby('job_skills')['salary_year_avg'].agg(['count','median']).sort_values(by='count',ascending=False)"
   ]
  },
  {
   "cell_type": "code",
   "execution_count": 5,
   "id": "954acd39-5773-422d-9dae-fe1b8e80059a",
   "metadata": {},
   "outputs": [],
   "source": [
    "df_DA_IN_skills=df_DA_IN_skills.rename(columns={'count':'skill_count','median':'median_salary'})"
   ]
  },
  {
   "cell_type": "code",
   "execution_count": 6,
   "id": "868f2db9-88e6-4033-9169-4a6cd07966ec",
   "metadata": {},
   "outputs": [],
   "source": [
    "DA_job_count=len(df_DA_IN)"
   ]
  },
  {
   "cell_type": "code",
   "execution_count": 7,
   "id": "491fe4eb-31fc-4799-abf3-77ca8a31961e",
   "metadata": {},
   "outputs": [],
   "source": [
    "df_DA_IN_skills['skills_perc']= (df_DA_IN_skills['skill_count']/DA_job_count)*100"
   ]
  },
  {
   "cell_type": "code",
   "execution_count": 8,
   "id": "1ac988cf-3e32-43d3-9c2c-4c399ff447a5",
   "metadata": {},
   "outputs": [],
   "source": [
    "df_DA_IN_skills_high_demand=df_DA_IN_skills[df_DA_IN_skills['skills_perc']>5]"
   ]
  },
  {
   "cell_type": "code",
   "execution_count": 9,
   "id": "4cbfe3fd-08a5-4ae8-aa48-0660985d4358",
   "metadata": {},
   "outputs": [
    {
     "data": {
      "text/html": [
       "<div>\n",
       "<style scoped>\n",
       "    .dataframe tbody tr th:only-of-type {\n",
       "        vertical-align: middle;\n",
       "    }\n",
       "\n",
       "    .dataframe tbody tr th {\n",
       "        vertical-align: top;\n",
       "    }\n",
       "\n",
       "    .dataframe thead th {\n",
       "        text-align: right;\n",
       "    }\n",
       "</style>\n",
       "<table border=\"1\" class=\"dataframe\">\n",
       "  <thead>\n",
       "    <tr style=\"text-align: right;\">\n",
       "      <th></th>\n",
       "      <th>skill_count</th>\n",
       "      <th>median_salary</th>\n",
       "      <th>skills_perc</th>\n",
       "    </tr>\n",
       "    <tr>\n",
       "      <th>job_skills</th>\n",
       "      <th></th>\n",
       "      <th></th>\n",
       "      <th></th>\n",
       "    </tr>\n",
       "  </thead>\n",
       "  <tbody>\n",
       "    <tr>\n",
       "      <th>sql</th>\n",
       "      <td>46</td>\n",
       "      <td>96050.00</td>\n",
       "      <td>48.936170</td>\n",
       "    </tr>\n",
       "    <tr>\n",
       "      <th>excel</th>\n",
       "      <td>39</td>\n",
       "      <td>98500.00</td>\n",
       "      <td>41.489362</td>\n",
       "    </tr>\n",
       "    <tr>\n",
       "      <th>python</th>\n",
       "      <td>36</td>\n",
       "      <td>96050.00</td>\n",
       "      <td>38.297872</td>\n",
       "    </tr>\n",
       "    <tr>\n",
       "      <th>tableau</th>\n",
       "      <td>20</td>\n",
       "      <td>108087.50</td>\n",
       "      <td>21.276596</td>\n",
       "    </tr>\n",
       "    <tr>\n",
       "      <th>r</th>\n",
       "      <td>18</td>\n",
       "      <td>79200.00</td>\n",
       "      <td>19.148936</td>\n",
       "    </tr>\n",
       "    <tr>\n",
       "      <th>power bi</th>\n",
       "      <td>17</td>\n",
       "      <td>111175.00</td>\n",
       "      <td>18.085106</td>\n",
       "    </tr>\n",
       "    <tr>\n",
       "      <th>azure</th>\n",
       "      <td>15</td>\n",
       "      <td>93600.00</td>\n",
       "      <td>15.957447</td>\n",
       "    </tr>\n",
       "    <tr>\n",
       "      <th>aws</th>\n",
       "      <td>12</td>\n",
       "      <td>79200.00</td>\n",
       "      <td>12.765957</td>\n",
       "    </tr>\n",
       "    <tr>\n",
       "      <th>oracle</th>\n",
       "      <td>11</td>\n",
       "      <td>79200.00</td>\n",
       "      <td>11.702128</td>\n",
       "    </tr>\n",
       "    <tr>\n",
       "      <th>spark</th>\n",
       "      <td>11</td>\n",
       "      <td>111175.00</td>\n",
       "      <td>11.702128</td>\n",
       "    </tr>\n",
       "    <tr>\n",
       "      <th>word</th>\n",
       "      <td>10</td>\n",
       "      <td>82092.75</td>\n",
       "      <td>10.638298</td>\n",
       "    </tr>\n",
       "    <tr>\n",
       "      <th>looker</th>\n",
       "      <td>10</td>\n",
       "      <td>111175.00</td>\n",
       "      <td>10.638298</td>\n",
       "    </tr>\n",
       "    <tr>\n",
       "      <th>powerpoint</th>\n",
       "      <td>10</td>\n",
       "      <td>111175.00</td>\n",
       "      <td>10.638298</td>\n",
       "    </tr>\n",
       "    <tr>\n",
       "      <th>flow</th>\n",
       "      <td>6</td>\n",
       "      <td>102750.00</td>\n",
       "      <td>6.382979</td>\n",
       "    </tr>\n",
       "    <tr>\n",
       "      <th>mongodb</th>\n",
       "      <td>6</td>\n",
       "      <td>163782.00</td>\n",
       "      <td>6.382979</td>\n",
       "    </tr>\n",
       "    <tr>\n",
       "      <th>redshift</th>\n",
       "      <td>5</td>\n",
       "      <td>79200.00</td>\n",
       "      <td>5.319149</td>\n",
       "    </tr>\n",
       "    <tr>\n",
       "      <th>sql server</th>\n",
       "      <td>5</td>\n",
       "      <td>72000.00</td>\n",
       "      <td>5.319149</td>\n",
       "    </tr>\n",
       "    <tr>\n",
       "      <th>hadoop</th>\n",
       "      <td>5</td>\n",
       "      <td>79200.00</td>\n",
       "      <td>5.319149</td>\n",
       "    </tr>\n",
       "  </tbody>\n",
       "</table>\n",
       "</div>"
      ],
      "text/plain": [
       "            skill_count  median_salary  skills_perc\n",
       "job_skills                                         \n",
       "sql                  46       96050.00    48.936170\n",
       "excel                39       98500.00    41.489362\n",
       "python               36       96050.00    38.297872\n",
       "tableau              20      108087.50    21.276596\n",
       "r                    18       79200.00    19.148936\n",
       "power bi             17      111175.00    18.085106\n",
       "azure                15       93600.00    15.957447\n",
       "aws                  12       79200.00    12.765957\n",
       "oracle               11       79200.00    11.702128\n",
       "spark                11      111175.00    11.702128\n",
       "word                 10       82092.75    10.638298\n",
       "looker               10      111175.00    10.638298\n",
       "powerpoint           10      111175.00    10.638298\n",
       "flow                  6      102750.00     6.382979\n",
       "mongodb               6      163782.00     6.382979\n",
       "redshift              5       79200.00     5.319149\n",
       "sql server            5       72000.00     5.319149\n",
       "hadoop                5       79200.00     5.319149"
      ]
     },
     "execution_count": 9,
     "metadata": {},
     "output_type": "execute_result"
    }
   ],
   "source": [
    "df_DA_IN_skills_high_demand"
   ]
  },
  {
   "cell_type": "code",
   "execution_count": 17,
   "id": "62ec1390-a3dc-47b3-89fc-1f6a76cd92e5",
   "metadata": {},
   "outputs": [
    {
     "data": {
      "image/png": "[encoded data removed]",
      "text/plain": [
       "<Figure size 640x480 with 1 Axes>"
      ]
     },
     "metadata": {},
     "output_type": "display_data"
    }
   ],
   "source": [
    "from matplotlib.ticker import PercentFormatter\n",
    "\n",
    "from adjustText import adjust_text \n",
    "df_DA_IN_skills_high_demand.plot(kind='scatter', x='skills_perc', y='median_salary') \n",
    "#Prepare texts for adjustText \n",
    "texts = [] \n",
    "for i, txt in enumerate (df_DA_IN_skills_high_demand.index): \n",
    "    texts.append(plt.text(df_DA_IN_skills_high_demand['skills_perc'].iloc[i], df_DA_IN_skills_high_demand ['median_salary'].iloc[i], txt)) \n",
    "#Adjust text to avoid overlap \n",
    "adjust_text(texts, arrowprops=dict(arrowstyle='->', color='gray')) \n",
    "#Set axis labels, title, and legend \n",
    "plt.xlabel('Percent of Data Analysts Jobs') \n",
    "plt.ylabel('Median Yearly Salary') \n",
    "\n",
    "ax=plt.gca()\n",
    "ax.yaxis.set_major_formatter(plt.FuncFormatter(lambda y,pos:f'₹{int(y/1000)}K'))\n",
    "ax.xaxis.set_major_formatter(PercentFormatter(decimals=0))\n",
    "\n",
    "plt.title(f'Most Optimal Skills for Data Analysts in India') \n",
    "#Adjust layout and display plot \n",
    "plt.tight_layout() \n",
    "plt.show()"
   ]
  },
  {
   "cell_type": "code",
   "execution_count": null,
   "id": "0cf1ab13-281f-4128-82a8-3d96b9e24742",
   "metadata": {},
   "outputs": [],
   "source": []
  }
 ],
 "metadata": {
  "kernelspec": {
   "display_name": "Python 3 (ipykernel)",
   "language": "python",
   "name": "python3"
  },
  "language_info": {
   "codemirror_mode": {
    "name": "ipython",
    "version": 3
   },
   "file_extension": ".py",
   "mimetype": "text/x-python",
   "name": "python",
   "nbconvert_exporter": "python",
   "pygments_lexer": "ipython3",
   "version": "3.12.7"
  }
 },
 "nbformat": 4,
 "nbformat_minor": 5
}
